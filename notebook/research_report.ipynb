{
 "cells": [
  {
   "cell_type": "markdown",
   "source": [
    "# Onderzoeksrapport\n",
    "\n",
    "**Studenten:** Dennis Gerritsen, Tim Dremmen\n",
    "\n",
    "**Studentnummers:** 2106973, 1859609\n",
    "\n",
    "**Docent:** Koen Steeghs\n",
    "\n",
    "**Course:** Data Science\n",
    "\n",
    "**Klas:** BD04\n",
    "\n",
    "## Introductie\n",
    "\n",
    "Dit onderzoeksrapport dient als groeirapport voor de studenten om aan te kunnen tonen dat ze de\n",
    "vaardigheden bezitten die tijdens de course van de studenten gevraagd worden. Aan de hand van verschillende\n",
    "verschillende data science methoden wordt de kennis toegepast op een zelfgekozen dataset. De dataset die wordt gebruikt\n",
    "is een klantendataset van een winkel waar persoonlijke informatie van de klant in staat inclusief\n",
    "zijn aankoopgedrag. De dataset zal geselecteerd worden, zodat e Voor elke methoden zal een toepassing op de dataset uitgewerkt worden inclusief beargumentatie\n",
    "van de gemaakte keuzes.\n",
    "\n",
    "## Materialen en methoden\n",
    "\n",
    "## Resultaten\n",
    "\n",
    "## Discussie\n",
    "\n",
    "## Conclusie\n",
    "\n",
    "## Aanbevelingen\n",
    "\n",
    "## Literatuurlijst"
   ],
   "metadata": {
    "collapsed": false,
    "pycharm": {
     "name": "#%% md\n"
    }
   }
  },
  {
   "cell_type": "code",
   "execution_count": 1,
   "outputs": [
    {
     "name": "stdout",
     "output_type": "stream",
     "text": [
      "Hello world\n"
     ]
    }
   ],
   "source": [
    "print (\"Hello world\")\n"
   ],
   "metadata": {
    "collapsed": false,
    "pycharm": {
     "name": "#%%\n"
    }
   }
  }
 ],
 "metadata": {
  "kernelspec": {
   "display_name": "Python 3",
   "language": "python",
   "name": "python3"
  },
  "language_info": {
   "codemirror_mode": {
    "name": "ipython",
    "version": 2
   },
   "file_extension": ".py",
   "mimetype": "text/x-python",
   "name": "python",
   "nbconvert_exporter": "python",
   "pygments_lexer": "ipython2",
   "version": "2.7.6"
  }
 },
 "nbformat": 4,
 "nbformat_minor": 0
}