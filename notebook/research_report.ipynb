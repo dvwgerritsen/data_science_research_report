{
 "cells": [
  {
   "cell_type": "markdown",
   "source": [
    "# Hello\n",
    "\n",
    "I really like using Markdown.\n",
    "\n",
    "I think I'll use it to format all of my documents from now on.\n",
    "\n",
    "I just **love** bold text.\n",
    "\n",
    "p = 5"
   ],
   "metadata": {
    "collapsed": false,
    "pycharm": {
     "name": "#%% md\n"
    }
   }
  }
 ],
 "metadata": {
  "kernelspec": {
   "display_name": "Python 3",
   "language": "python",
   "name": "python3"
  },
  "language_info": {
   "codemirror_mode": {
    "name": "ipython",
    "version": 2
   },
   "file_extension": ".py",
   "mimetype": "text/x-python",
   "name": "python",
   "nbconvert_exporter": "python",
   "pygments_lexer": "ipython2",
   "version": "2.7.6"
  }
 },
 "nbformat": 4,
 "nbformat_minor": 0
}